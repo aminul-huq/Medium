{
 "cells": [
  {
   "cell_type": "code",
   "execution_count": null,
   "id": "19726060-1939-4ecc-8b8f-18bf2091095d",
   "metadata": {},
   "outputs": [],
   "source": [
    "import warnings\n",
    "warnings.filterwarnings(\"ignore\")\n",
    "\n",
    "import numpy as np\n",
    "import torch\n",
    "import torch.nn as nn\n",
    "import torchvision\n",
    "import torch.optim as optim\n",
    "from torch.utils.data import DataLoader,random_split,Dataset, ConcatDataset ,SubsetRandomSampler \n",
    "import torchvision.transforms as transforms\n",
    "import matplotlib.pyplot as plt\n",
    "\n",
    "from torchinfo import summary\n",
    "from tqdm import tqdm\n",
    "from sklearn.model_selection import KFold"
   ]
  },
  {
   "cell_type": "code",
   "execution_count": null,
   "id": "bdbc5152-ba8e-4a42-bbfd-52f111299e4f",
   "metadata": {},
   "outputs": [],
   "source": [
    "seed = 129\n",
    "torch.manual_seed(seed)\n",
    "torch.backends.cudnn.deterministic = True\n",
    "\n",
    "num_epochs = 10\n",
    "batch_size = 32\n",
    "device = 'cuda'"
   ]
  },
  {
   "cell_type": "code",
   "execution_count": null,
   "id": "3a1192f2-5b0e-4d4c-9f8e-d9a73162bd6b",
   "metadata": {},
   "outputs": [],
   "source": [
    "train_dataset = torchvision.datasets.CIFAR100('./data', train=True, download=True, transform=transforms.ToTensor())\n",
    "test_dataset = torchvision.datasets.CIFAR100('./data', train=False, download=True, transform=transforms.ToTensor())"
   ]
  },
  {
   "cell_type": "code",
   "execution_count": null,
   "id": "7c931414-c847-4e2f-8a71-6d75475f1c57",
   "metadata": {},
   "outputs": [],
   "source": [
    "def train_model(model, train_loader, criterion, optimizer, device, epochs):\n",
    "    model.train()\n",
    "    train_loss, total_samples, total_correct = 0,0,0\n",
    "    \n",
    "    for i,(imgs, labels) in enumerate(tqdm(train_loader)):\n",
    "        imgs, labels = imgs.to(device), labels.to(device)\n",
    "        optimizer.zero_grad()\n",
    "        \n",
    "        outputs = model(imgs)\n",
    "        loss = criterion(outputs, labels)\n",
    "        loss.backward()\n",
    "        optimizer.step()\n",
    "        \n",
    "        train_loss += loss.item() * imgs.size(0)\n",
    "        _, predicted = torch.max(outputs.data,1)\n",
    "\n",
    "        total_correct += (predicted == labels).sum().item()\n",
    "        total_samples += labels.size(0)\n",
    "        accuracy = (total_correct/total_samples)*100\n",
    "\n",
    "    print(\"Trainining Epoch: [{}]  loss: [{:.2f}] Accuracy :[{:.2f}]\".format(epochs+1, train_loss/len(train_loader), accuracy))\n",
    "\n",
    "    return train_loss/len(train_loader), accuracy"
   ]
  },
  {
   "cell_type": "code",
   "execution_count": null,
   "id": "1bef662c-1d8e-4b39-9cb9-644b7009ace4",
   "metadata": {},
   "outputs": [],
   "source": [
    "def test_model(model, test_loader, criterion,  device, epochs):\n",
    "    model.eval()\n",
    "    test_loss, total_samples, total_correct = 0,0,0\n",
    "    with torch.no_grad():\n",
    "        for i,(imgs, labels) in enumerate(tqdm(test_loader)):\n",
    "            imgs, labels = imgs.to(device), labels.to(device)\n",
    "\n",
    "            outputs = model(imgs)\n",
    "            loss = criterion(outputs, labels)\n",
    "\n",
    "            test_loss += loss.item() * imgs.size(0)\n",
    "            _, predicted = torch.max(outputs.data,1)\n",
    "\n",
    "            total_correct += (predicted == labels).sum().item()\n",
    "            total_samples += labels.size(0)\n",
    "            accuracy = (total_correct/total_samples)*100\n",
    "\n",
    "    print(\"Testing Epoch: [{}]  loss: [{:.2f}] Accuracy :[{:.2f}]\".format(epochs+1, test_loss/len(test_loader), accuracy))\n",
    "\n",
    "    return test_loss/len(test_loader), accuracy"
   ]
  },
  {
   "cell_type": "code",
   "execution_count": null,
   "id": "b45921ca-313b-459c-ac6b-6c0417e7469b",
   "metadata": {},
   "outputs": [],
   "source": [
    "k=3\n",
    "splits=KFold(n_splits=k,shuffle=True,random_state=0)\n",
    "per_fold_result={}"
   ]
  },
  {
   "cell_type": "code",
   "execution_count": null,
   "id": "ecddb24b-b49c-49fe-8b31-6c7484e0c6f4",
   "metadata": {
    "tags": []
   },
   "outputs": [],
   "source": [
    "for i, (train_idx,val_idx) in enumerate(splits.split(np.arange(len(train_dataset)))):\n",
    "\n",
    "    print(\"Fold no.{}:\".format(i + 1))\n",
    "\n",
    "    train_sampler = SubsetRandomSampler(train_idx)\n",
    "    valid_sampler = SubsetRandomSampler(val_idx)\n",
    "    train_loader = DataLoader(train_dataset, batch_size=batch_size, sampler=train_sampler, num_workers = 4)\n",
    "    valid_loader = DataLoader(train_dataset, batch_size=batch_size, sampler=valid_sampler, num_workers = 4)\n",
    "    \n",
    "    model = torchvision.models.resnet18().to('cuda')\n",
    "    model.fc = torch.nn.Linear(in_features=512, \n",
    "                    out_features=100, \n",
    "                    bias=True).to('cuda')\n",
    "          \n",
    "    optimizer = torch.optim.SGD(model.parameters(),lr=0.0001)\n",
    "    criterion = nn.CrossEntropyLoss()\n",
    "\n",
    "    history = {'train_loss': [], 'valid_loss': [],'train_acc':[],'valid_acc':[]}\n",
    "\n",
    "    for epoch in range(num_epochs):\n",
    "        train_loss, train_acc = train_model(model, train_loader, criterion, optimizer, device, epoch)\n",
    "        valid_loss, valid_acc = test_model(model, valid_loader, criterion, device, epoch)\n",
    "            \n",
    "        history['train_loss'].append(train_loss)\n",
    "        history['valid_loss'].append(valid_loss)\n",
    "        history['train_acc'].append(train_acc)\n",
    "        history['valid_acc'].append(valid_acc)\n",
    "\n",
    "    per_fold_result['fold{}'.format(i+1)] = history  "
   ]
  },
  {
   "cell_type": "code",
   "execution_count": null,
   "id": "8882f516-32f2-4de1-ba51-072facad4be5",
   "metadata": {},
   "outputs": [],
   "source": [
    "plt.figure(figsize=(8,5))\n",
    "plt.subplot(121)\n",
    "plt.plot(per_fold_result['fold1']['train_loss'],label='Fold 1 Training Loss')\n",
    "plt.plot(per_fold_result['fold1']['valid_loss'],label='Fold 1 Validation Loss')\n",
    "plt.plot(per_fold_result['fold2']['train_loss'],label='Fold 2 Training Loss')\n",
    "plt.plot(per_fold_result['fold2']['valid_loss'],label='Fold 2 Validation Loss')\n",
    "plt.plot(per_fold_result['fold3']['train_loss'],label='Fold 3 Training Loss')\n",
    "plt.plot(per_fold_result['fold3']['valid_loss'],label='Fold 3 Validation Loss')\n",
    "plt.legend()\n",
    "plt.xlabel('Epochs')\n",
    "plt.ylabel('Loss')\n",
    "plt.subplot(122)\n",
    "plt.plot(per_fold_result['fold1']['train_acc'],label='Fold 1 Training Accuracy')\n",
    "plt.plot(per_fold_result['fold1']['valid_acc'],label='Fold 1 Validation Accuracy')\n",
    "plt.plot(per_fold_result['fold2']['train_acc'],label='Fold 2 Training Accuracy')\n",
    "plt.plot(per_fold_result['fold2']['valid_acc'],label='Fold 2 Validation Accuracy')\n",
    "plt.plot(per_fold_result['fold3']['train_acc'],label='Fold 3 Training Accuracy')\n",
    "plt.plot(per_fold_result['fold3']['valid_acc'],label='Fold 3 Validation Accuracy')\n",
    "plt.legend()\n",
    "plt.xlabel('Epochs')\n",
    "plt.ylabel('Accuracy')\n",
    "plt.show()"
   ]
  },
  {
   "cell_type": "code",
   "execution_count": null,
   "id": "e2798f26-d08d-45e6-a149-aceee0df040d",
   "metadata": {},
   "outputs": [],
   "source": []
  },
  {
   "cell_type": "code",
   "execution_count": null,
   "id": "43cac3bf-b107-4ca4-b6e7-f752f2be1e5a",
   "metadata": {},
   "outputs": [],
   "source": []
  },
  {
   "cell_type": "code",
   "execution_count": null,
   "id": "2d542cd4-87b5-470e-b66a-0b3bfc4d8fa3",
   "metadata": {},
   "outputs": [],
   "source": []
  },
  {
   "cell_type": "code",
   "execution_count": null,
   "id": "4f5f413d-d7ad-4c18-bf3b-bb69bd051d38",
   "metadata": {},
   "outputs": [],
   "source": []
  },
  {
   "cell_type": "code",
   "execution_count": null,
   "id": "9fff8850-deed-4de3-b81e-35ac8cedfdd0",
   "metadata": {},
   "outputs": [],
   "source": []
  },
  {
   "cell_type": "code",
   "execution_count": null,
   "id": "364a4ad9-843d-4dc9-98cd-c96205ba0a2a",
   "metadata": {},
   "outputs": [],
   "source": []
  },
  {
   "cell_type": "code",
   "execution_count": null,
   "id": "6d8a6a85-d72d-418a-9f39-904ceeb4b450",
   "metadata": {},
   "outputs": [],
   "source": []
  },
  {
   "cell_type": "code",
   "execution_count": null,
   "id": "cc638f6f-59c6-47b7-9074-3e7086551484",
   "metadata": {},
   "outputs": [],
   "source": []
  },
  {
   "cell_type": "code",
   "execution_count": null,
   "id": "7798e4be-d528-44d0-a11b-85356b041218",
   "metadata": {},
   "outputs": [],
   "source": []
  },
  {
   "cell_type": "code",
   "execution_count": null,
   "id": "f9f08a8f-315a-463a-9faa-54cd27aa592a",
   "metadata": {},
   "outputs": [],
   "source": []
  },
  {
   "cell_type": "code",
   "execution_count": null,
   "id": "44f64b43-13f5-4716-98c4-32f24552d4eb",
   "metadata": {},
   "outputs": [],
   "source": []
  }
 ],
 "metadata": {
  "kernelspec": {
   "display_name": "torch_env",
   "language": "python",
   "name": "torch_env"
  },
  "language_info": {
   "codemirror_mode": {
    "name": "ipython",
    "version": 3
   },
   "file_extension": ".py",
   "mimetype": "text/x-python",
   "name": "python",
   "nbconvert_exporter": "python",
   "pygments_lexer": "ipython3",
   "version": "3.10.9"
  }
 },
 "nbformat": 4,
 "nbformat_minor": 5
}
