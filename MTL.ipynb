{
 "cells": [
  {
   "cell_type": "code",
   "execution_count": null,
   "id": "8380df80-5ae5-4ec5-89f6-76a8927fb6d1",
   "metadata": {},
   "outputs": [],
   "source": [
    "import random\n",
    "import numpy as np\n",
    "import torch\n",
    "import torch.nn as nn\n",
    "import torch.nn.functional as F\n",
    "import torchvision\n",
    "import torchvision.transforms as transforms\n",
    "import torchvision.datasets as datasets\n",
    "from torch.utils.data import DataLoader,random_split,Dataset\n",
    "import torch.optim as optim\n",
    "from tqdm import tqdm\n",
    "from training_utils import *"
   ]
  },
  {
   "cell_type": "code",
   "execution_count": null,
   "id": "693086c4-a8ce-4c5f-ab89-4dff0ab7f143",
   "metadata": {},
   "outputs": [],
   "source": [
    "seed = 43\n",
    "random.seed(seed)\n",
    "np.random.seed(seed)\n",
    "torch.manual_seed(seed)\n",
    "\n",
    "torch.backends.cudnn.deterministic = True"
   ]
  },
  {
   "cell_type": "code",
   "execution_count": null,
   "id": "7caa4f4c-f178-45da-aead-248b25394149",
   "metadata": {},
   "outputs": [],
   "source": [
    "trainset = datasets.CIFAR10(root='./data/', train=True, download=False, transform=transforms.ToTensor())\n",
    "testset = datasets.CIFAR10(root='./data/', train=False, download=False, transform=transforms.ToTensor())\n",
    "\n",
    "labels_list = ['airplane','automobile','bird','cat','deer','dog','frog','horse','ship','truck']\n",
    "non_animal = [0,1,8,9]\n",
    "device = 'cuda'"
   ]
  },
  {
   "cell_type": "code",
   "execution_count": null,
   "id": "9da141a7-0806-4859-a2dd-741c21689ec7",
   "metadata": {},
   "outputs": [],
   "source": [
    "class NewDataset(Dataset):\n",
    "    \n",
    "    def __init__(self,data,transform=None):\n",
    "        self.data = data\n",
    "        \n",
    "    def __len__(self):\n",
    "        return len(self.data)    \n",
    "    \n",
    "    def __getitem__(self,idx):\n",
    "        image = self.data[idx][0]\n",
    "        label1 = self.data[idx][1]          #original label \n",
    "        label2 = 0 if self.data[idx][1] in non_animal else 1       #animal or non-animal\n",
    "        return image, label1, label2"
   ]
  },
  {
   "cell_type": "code",
   "execution_count": null,
   "id": "fa1c9111-1376-489f-a049-e2d8a553ffaa",
   "metadata": {},
   "outputs": [],
   "source": [
    "new_trainset = NewDataset(trainset,non_animal)\n",
    "new_testset = NewDataset(testset,non_animal)\n",
    "\n",
    "train_set, valid_set = random_split(new_trainset,[int(len(new_trainset)*0.9), int(len(new_trainset)*0.1)],\n",
    "                                  generator=torch.Generator().manual_seed(0))\n",
    "\n",
    "train_loader = DataLoader(train_set, batch_size=100, shuffle=True)\n",
    "valid_loader = DataLoader(valid_set, batch_size=100, shuffle=True)\n",
    "test_loader = DataLoader(new_testset, batch_size=100, shuffle=True)"
   ]
  },
  {
   "cell_type": "code",
   "execution_count": null,
   "id": "ca357b4f-32e8-4735-9873-3a014db6584b",
   "metadata": {},
   "outputs": [],
   "source": [
    "class MTL_Net(nn.Module):\n",
    "    def __init__(self, input_channel, num_class):\n",
    "        super(MTL_Net,self).__init__()\n",
    "        \n",
    "        self.classes = num_class\n",
    "        \n",
    "        self.conv1 = nn.Conv2d(in_channels=input_channel,out_channels=8,kernel_size=3,stride=1)\n",
    "        self.conv2 = nn.Conv2d(in_channels=8,out_channels=16,kernel_size=3,stride=1)\n",
    "        self.fc1 = nn.Linear(64, 256)\n",
    "        self.dropout1 = nn.Dropout(0.3)\n",
    "        self.fc2 = nn.Linear(256,128)\n",
    "        self.dropout2 = nn.Dropout(0.3)\n",
    "        \n",
    "        self.fc3 = nn.Linear(128, self.classes[0])\n",
    "        self.fc4 = nn.Linear(128, self.classes[1])\n",
    "        \n",
    "    def forward(self, x):\n",
    "        \n",
    "        x = F.max_pool2d(F.relu(self.conv1(x)),kernel_size=3)\n",
    "        x = F.max_pool2d(F.relu(self.conv2(x)),kernel_size=3)\n",
    "        x = F.relu(self.fc1(x.reshape(-1,x.shape[1] * x.shape[2]*x.shape[3])))\n",
    "        x = self.dropout1(x)\n",
    "        x = F.relu(self.fc2(x))\n",
    "        x = self.dropout2(x)\n",
    "        x1 = self.fc3(x)\n",
    "        x2 = self.fc4(x)\n",
    "        \n",
    "        return x1,x2"
   ]
  },
  {
   "cell_type": "code",
   "execution_count": null,
   "id": "e02de7cc-959e-429c-908d-8be3f4f4df7e",
   "metadata": {},
   "outputs": [],
   "source": [
    "class Net(nn.Module):\n",
    "    def __init__(self, input_channel, num_class):\n",
    "        super(Net,self).__init__()\n",
    "        \n",
    "        self.classes = num_class\n",
    "        \n",
    "        self.conv1 = nn.Conv2d(in_channels=input_channel,out_channels=8,kernel_size=3,stride=1)\n",
    "        self.conv2 = nn.Conv2d(in_channels=8,out_channels=16,kernel_size=3,stride=1)\n",
    "        self.fc1 = nn.Linear(64, 256)\n",
    "        self.dropout1 = nn.Dropout(0.3)\n",
    "        self.fc2 = nn.Linear(256,128)\n",
    "        self.dropout2 = nn.Dropout(0.3)\n",
    "        \n",
    "        self.fc3 = nn.Linear(128, self.classes)\n",
    "                \n",
    "    def forward(self, x):\n",
    "        \n",
    "        x = F.max_pool2d(F.relu(self.conv1(x)),kernel_size=3)\n",
    "        x = F.max_pool2d(F.relu(self.conv2(x)),kernel_size=3)\n",
    "        x = F.relu(self.fc1(x.reshape(-1,x.shape[1] * x.shape[2]*x.shape[3])))\n",
    "        x = self.dropout1(x)\n",
    "        x = F.relu(self.fc2(x))\n",
    "        x = self.dropout2(x)\n",
    "        x1 = self.fc3(x)\n",
    "               \n",
    "        return x1"
   ]
  },
  {
   "cell_type": "code",
   "execution_count": null,
   "id": "b86f3e59-abee-40b9-95a3-5f9736cd28d2",
   "metadata": {},
   "outputs": [],
   "source": [
    "num_classes = [10,2]\n",
    "model = MTL_Net(3,num_classes).to(device)\n",
    "\n",
    "criterion = nn.CrossEntropyLoss()\n",
    "optimizer = optim.SGD(model.parameters(), lr=0.001,momentum=0.9, weight_decay=5e-4)"
   ]
  },
  {
   "cell_type": "code",
   "execution_count": null,
   "id": "29b2e5dd-92a3-4487-9b72-1a9c21064c91",
   "metadata": {},
   "outputs": [],
   "source": [
    "def train_model(model,trainloader,optim,criterion,epoch,device):\n",
    "    model.train()\n",
    "    train_loss,total,total_correct1,total_correct2 = 0,0,0,0\n",
    "    \n",
    "    for i,(inputs,tg1,tg2) in enumerate(tqdm(trainloader)):\n",
    "        \n",
    "        inputs,tg1,tg2 = inputs.to(device), tg1.to(device), tg2.to(device)\n",
    "        optim.zero_grad()\n",
    "        \n",
    "        op1,op2 = model(inputs)\n",
    "        loss1 = criterion(op1,tg1)\n",
    "        loss2 = criterion(op2,tg2)\n",
    "        \n",
    "        total_loss =  loss1 + loss2\n",
    "        total_loss.backward()\n",
    "        \n",
    "        optim.step()\n",
    "        \n",
    "        train_loss += loss1 + loss2\n",
    "        _,pd1 = torch.max(op1.data,1)\n",
    "        _,pd2 = torch.max(op2.data,1)\n",
    "        \n",
    "        total_correct1 += (pd1 == tg1).sum().item()\n",
    "        total_correct2 += (pd2 == tg2).sum().item()\n",
    "        \n",
    "        total += tg1.size(0)\n",
    "    \n",
    "    print(\"Epoch: [{}]  loss: [{:.2f}] Original_task_acc [{:.2f}] animal_vs_non_animal_acc [{:.2f}]\".format\n",
    "                                                                          (epoch+1,train_loss/(i+1),\n",
    "                                                                           (total_correct1*100/total),\n",
    "                                                                          (total_correct2*100/total)))\n",
    "    return train_loss/(i+1)\n",
    "\n",
    "def train_single_model(model,trainloader,optim,criterion,epoch,device):\n",
    "    model.train()\n",
    "    train_loss,total,total_correct1 = 0,0,0\n",
    "    \n",
    "    for i,(inputs,tg1,tg2) in enumerate(tqdm(trainloader)):\n",
    "        \n",
    "        inputs,tg1,tg2 = inputs.to(device), tg1.to(device), tg2.to(device)\n",
    "        optim.zero_grad()\n",
    "        \n",
    "        op = model(inputs)\n",
    "        loss1 = criterion(op,tg1) # Change tg1 to tg2 or vice versa based on the task \n",
    "        \n",
    "        total_loss = loss1\n",
    "        total_loss.backward()\n",
    "        \n",
    "        optim.step()\n",
    "        \n",
    "        train_loss += loss1.item()\n",
    "        _,pd1 = torch.max(op.data,1)\n",
    "        \n",
    "        total_correct1 += (pd1 == tg1).sum().item()\n",
    "        \n",
    "        total += tg1.size(0)\n",
    "    \n",
    "    print(\"Epoch: [{}]  loss: [{:.2f}] Acc [{:.2f}] \".format(epoch+1,train_loss/(i+1),\n",
    "                                                                           (total_correct1*100/total),\n",
    "                                                                          ))\n",
    "    return train_loss/(i+1)"
   ]
  },
  {
   "cell_type": "code",
   "execution_count": null,
   "id": "a302ef98-691e-455f-bef2-8828c331f7c2",
   "metadata": {},
   "outputs": [],
   "source": [
    "def test_model(model,testloader,optim,criterion,epoch,device):\n",
    "    model.eval()\n",
    "    test_loss,total,total_correct1,total_correct2 = 0,0,0,0\n",
    "    \n",
    "    with torch.no_grad():\n",
    "        for i,(inputs,tg1,tg2) in enumerate(tqdm(testloader)):\n",
    "\n",
    "            inputs,tg1,tg2 = inputs.to(device), tg1.to(device), tg2.to(device)\n",
    "\n",
    "            op1,op2 = model(inputs)\n",
    "            loss1 = criterion(op1,tg1)\n",
    "            loss2 = criterion(op2,tg2)\n",
    "\n",
    "            test_loss += loss1.item() + loss2.item()\n",
    "            _,pd1 = torch.max(op1.data,1)\n",
    "            _,pd2 = torch.max(op2.data,1)\n",
    "\n",
    "            total_correct1 += (pd1 == tg1).sum().item()\n",
    "            total_correct2 += (pd2 == tg2).sum().item()\n",
    "\n",
    "            total += tg1.size(0)\n",
    "\n",
    "    acc1 = 100. * total_correct1 / total\n",
    "    acc2 = 100. * total_correct2 / total\n",
    "    print(\"Test Epoch: [{}]  loss: [{:.2f}] Original_task_Acc [{:.2f}] animal_vs_non_animal_acc [{:.2f}]\".format\n",
    "                                                                          (epoch+1,test_loss/(i+1),\n",
    "                                                                           acc1,acc2))\n",
    "        \n",
    "    return test_loss/(i+1), acc1, acc2\n",
    "\n",
    "def test_single_model(model,testloader,optim,criterion,epoch,device):\n",
    "    model.eval()\n",
    "    test_loss,total,total_correct1,total_correct2 = 0,0,0,0\n",
    "    \n",
    "    with torch.no_grad():\n",
    "        for i,(inputs,tg1,tg2) in enumerate(tqdm(testloader)):\n",
    "\n",
    "            inputs,tg1,tg2 = inputs.to(device), tg1.to(device), tg2.to(device)\n",
    "\n",
    "            op = model(inputs)\n",
    "            loss1 = criterion(op,tg1)  # Change tg1 to tg2 or vice versa based on the task\n",
    "            \n",
    "            test_loss += loss1.item() \n",
    "            _,pd1 = torch.max(op.data,1)\n",
    "           \n",
    "            total_correct1 += (pd1 == tg1).sum().item()\n",
    "            \n",
    "            total += tg1.size(0)\n",
    "\n",
    "    acc1 = 100. * total_correct1 / total\n",
    "\n",
    "    print(\"Test Epoch: [{}]  loss: [{:.2f}] Acc [{:.2f}] \".format(epoch+1,test_loss/(i+1),\n",
    "                                                                           acc1))\n",
    "        \n",
    "    return test_loss/(i+1), acc1"
   ]
  },
  {
   "cell_type": "markdown",
   "id": "90c4cb86-0be3-4829-a6df-2e1dc1e3c5c7",
   "metadata": {},
   "source": [
    "### Training Using MTL "
   ]
  },
  {
   "cell_type": "code",
   "execution_count": null,
   "id": "b3d9da1d-4610-4727-97f8-36dad2563e77",
   "metadata": {
    "tags": []
   },
   "outputs": [],
   "source": [
    "num_epochs = 50\n",
    "\n",
    "for epoch in range(num_epochs):\n",
    "    \n",
    "    _ = train_model(model,train_loader,optimizer,criterion,epoch,device)\n",
    "    _,_,_ = test_model(model,valid_loader,optimizer,criterion,epoch,device)    \n",
    "    "
   ]
  },
  {
   "cell_type": "code",
   "execution_count": null,
   "id": "28e319b8-2934-4d22-9085-df10566e97a2",
   "metadata": {},
   "outputs": [],
   "source": [
    "_,_,_ = test_model(model,test_loader,optimizer,criterion,epoch,device)   "
   ]
  },
  {
   "cell_type": "markdown",
   "id": "bb9a6276-7930-4aff-a0d6-8b112c947747",
   "metadata": {},
   "source": [
    "### Training a Single Task"
   ]
  },
  {
   "cell_type": "code",
   "execution_count": null,
   "id": "ceeca641-3d25-48e7-89b8-3f0ef9abdd82",
   "metadata": {},
   "outputs": [],
   "source": [
    "num_classes = 10\n",
    "model = Net(3,num_classes).to(device)\n",
    "\n",
    "criterion = nn.CrossEntropyLoss()\n",
    "optimizer = optim.SGD(model.parameters(), lr=0.001,momentum=0.9, weight_decay=5e-4)"
   ]
  },
  {
   "cell_type": "code",
   "execution_count": null,
   "id": "2a358b8b-789c-465e-a874-95c282e7470e",
   "metadata": {
    "tags": []
   },
   "outputs": [],
   "source": [
    "num_epochs = 50\n",
    "\n",
    "for epoch in range(num_epochs):\n",
    "    \n",
    "    _ = train_single_model(model,train_loader,optimizer,criterion,epoch,device)\n",
    "    _,_ = test_single_model(model,valid_loader,optimizer,criterion,epoch,device)    \n"
   ]
  },
  {
   "cell_type": "code",
   "execution_count": null,
   "id": "6a23adf8-ab87-40ba-8498-97d563af54f8",
   "metadata": {},
   "outputs": [],
   "source": [
    "_,_ = test_single_model(model,test_loader,optimizer,criterion,epoch,device)    "
   ]
  },
  {
   "cell_type": "code",
   "execution_count": null,
   "id": "88793e29-bc5e-4292-9e53-d9f8b37905db",
   "metadata": {},
   "outputs": [],
   "source": []
  },
  {
   "cell_type": "code",
   "execution_count": null,
   "id": "771d2055-6a93-4e8e-bf22-819ad9ed42a4",
   "metadata": {},
   "outputs": [],
   "source": []
  },
  {
   "cell_type": "code",
   "execution_count": null,
   "id": "9298e633-43aa-4634-9798-ab0f53b70cb5",
   "metadata": {},
   "outputs": [],
   "source": []
  },
  {
   "cell_type": "code",
   "execution_count": null,
   "id": "9adb3630-9db0-4503-84bc-3e602b2f60c9",
   "metadata": {},
   "outputs": [],
   "source": []
  }
 ],
 "metadata": {
  "kernelspec": {
   "display_name": "torch_env",
   "language": "python",
   "name": "torch_env"
  },
  "language_info": {
   "codemirror_mode": {
    "name": "ipython",
    "version": 3
   },
   "file_extension": ".py",
   "mimetype": "text/x-python",
   "name": "python",
   "nbconvert_exporter": "python",
   "pygments_lexer": "ipython3",
   "version": "3.10.9"
  }
 },
 "nbformat": 4,
 "nbformat_minor": 5
}
