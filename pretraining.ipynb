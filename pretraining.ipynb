{
 "cells": [
  {
   "cell_type": "code",
   "execution_count": null,
   "id": "751d27de-4d9b-4292-8026-2663ef7cfb2e",
   "metadata": {},
   "outputs": [],
   "source": [
    "import warnings\n",
    "warnings.filterwarnings(\"ignore\")\n",
    "\n",
    "import numpy as np\n",
    "import torch\n",
    "import torch.nn as nn\n",
    "import torchvision\n",
    "import torch.optim as optim\n",
    "from torch.utils.data import DataLoader,random_split,Dataset, ConcatDataset  \n",
    "import torchvision.transforms as transforms\n",
    "import matplotlib.pyplot as plt\n",
    "\n",
    "from torchinfo import summary\n",
    "from tqdm import tqdm"
   ]
  },
  {
   "cell_type": "code",
   "execution_count": null,
   "id": "90859777-1ef4-423d-bfe0-d737a17b8409",
   "metadata": {},
   "outputs": [],
   "source": [
    "seed = 129\n",
    "# random.seed(seed)\n",
    "# np.random.seed(seed)\n",
    "torch.manual_seed(seed)\n",
    "\n",
    "torch.backends.cudnn.deterministic = True\n",
    "\n",
    "\n",
    "num_epochs = 10\n",
    "batch_size = 32\n",
    "device = 'cuda'"
   ]
  },
  {
   "cell_type": "code",
   "execution_count": null,
   "id": "a375797f-a7c3-4ac8-909b-3f86594096d6",
   "metadata": {},
   "outputs": [],
   "source": [
    "train_dataset_whole = torchvision.datasets.CIFAR10('./data', train=True, download=True, transform=transforms.ToTensor())\n",
    "test_dataset = torchvision.datasets.CIFAR10('./data', train=False, download=True, transform=transforms.ToTensor())\n",
    "\n",
    "train_dataset, valid_dataset = random_split(train_dataset_whole,[int(len(train_dataset_whole)*0.9), int(len(train_dataset_whole)*0.1)],\n",
    "                                  generator=torch.Generator().manual_seed(seed))"
   ]
  },
  {
   "cell_type": "code",
   "execution_count": null,
   "id": "40d0b0d3-49f2-4bbd-b7f0-0a4506b2f90c",
   "metadata": {},
   "outputs": [],
   "source": [
    "train_loader = DataLoader(train_dataset, batch_size=batch_size, num_workers=10, shuffle=True)\n",
    "valid_loader = DataLoader(valid_dataset, batch_size=batch_size, num_workers=10, shuffle=False)\n",
    "test_loader = DataLoader(test_dataset, batch_size=batch_size, num_workers=10, shuffle=False)"
   ]
  },
  {
   "cell_type": "code",
   "execution_count": null,
   "id": "6a150a12-4701-4c52-b092-9b01834054ab",
   "metadata": {
    "tags": []
   },
   "outputs": [],
   "source": [
    "inputs, labels = next(iter(train_loader))\n",
    "out = torchvision.utils.make_grid(inputs)\n",
    "\n",
    "plt.imshow(out.numpy().transpose(1,2,0))"
   ]
  },
  {
   "cell_type": "code",
   "execution_count": null,
   "id": "d8edecf4-b897-4b74-b207-c630a0acd70f",
   "metadata": {},
   "outputs": [],
   "source": [
    "model = torchvision.models.resnet18(pretrained=True).to('cuda')\n",
    "model.fc = torch.nn.Linear(in_features=512, \n",
    "                    out_features=10, # same number of output units as our number of classes\n",
    "                    bias=True).to('cuda')"
   ]
  },
  {
   "cell_type": "code",
   "execution_count": null,
   "id": "6f7a12e6-bb5c-43da-9b27-dbe4983b77b9",
   "metadata": {
    "tags": []
   },
   "outputs": [],
   "source": [
    "summary(model=model, \n",
    "        input_size=(32, 3, 32, 32),\n",
    "        col_names=[\"input_size\", \"output_size\", \"num_params\", \"trainable\"],\n",
    "        col_width=20,\n",
    "        row_settings=[\"var_names\"]\n",
    ")"
   ]
  },
  {
   "cell_type": "code",
   "execution_count": null,
   "id": "e899c166-c399-4f92-bd21-e4c6bc197bbe",
   "metadata": {},
   "outputs": [],
   "source": []
  },
  {
   "cell_type": "code",
   "execution_count": null,
   "id": "079f8a20-00fd-4ab2-988c-7d0b6fda2360",
   "metadata": {
    "tags": []
   },
   "outputs": [],
   "source": [
    "for name, param in model.named_parameters():\n",
    "    if name[5] < '2': \n",
    "        param.requires_grad = False"
   ]
  },
  {
   "cell_type": "code",
   "execution_count": null,
   "id": "48bc7575-709f-4ab3-9935-5341e95c212a",
   "metadata": {},
   "outputs": [],
   "source": [
    "optimizer = torch.optim.SGD(model.parameters(),lr=0.0001)\n",
    "criterion = nn.CrossEntropyLoss()"
   ]
  },
  {
   "cell_type": "code",
   "execution_count": null,
   "id": "2e238b8b-bca0-47ea-a12b-69effd966fe6",
   "metadata": {},
   "outputs": [],
   "source": [
    "def train_model(model, train_loader, criterion, optimizer, device, epochs):\n",
    "    model.train()\n",
    "    train_loss, total_samples, total_correct = 0,0,0\n",
    "    \n",
    "    for i,(imgs, labels) in enumerate(tqdm(train_loader)):\n",
    "        imgs, labels = imgs.to(device), labels.to(device)\n",
    "        optimizer.zero_grad()\n",
    "        \n",
    "        outputs = model(imgs)\n",
    "        loss = criterion(outputs, labels)\n",
    "        loss.backward()\n",
    "        optimizer.step()\n",
    "        \n",
    "        train_loss += loss.item() * imgs.size(0)\n",
    "        _, predicted = torch.max(outputs.data,1)\n",
    "\n",
    "        total_correct += (predicted == labels).sum().item()\n",
    "        total_samples += labels.size(0)\n",
    "        accuracy = (total_correct/total_samples)*100\n",
    "\n",
    "    print(\"Trainining Epoch: [{}]  loss: [{:.2f}] Accuracy :[{:.2f}]\".format(epochs+1, train_loss/len(train_loader), accuracy))\n",
    "\n",
    "    return train_loss/len(train_loader), accuracy"
   ]
  },
  {
   "cell_type": "code",
   "execution_count": null,
   "id": "7ec319c8-3951-44b3-a86c-991f61329d98",
   "metadata": {},
   "outputs": [],
   "source": [
    "def test_model(model, test_loader, criterion,  device, epochs):\n",
    "    model.eval()\n",
    "    test_loss, total_samples, total_correct = 0,0,0\n",
    "    with torch.no_grad():\n",
    "        for i,(imgs, labels) in enumerate(tqdm(test_loader)):\n",
    "            imgs, labels = imgs.to(device), labels.to(device)\n",
    "\n",
    "            outputs = model(imgs)\n",
    "            loss = criterion(outputs, labels)\n",
    "\n",
    "            test_loss += loss.item() * imgs.size(0)\n",
    "            _, predicted = torch.max(outputs.data,1)\n",
    "\n",
    "            total_correct += (predicted == labels).sum().item()\n",
    "            total_samples += labels.size(0)\n",
    "            accuracy = (total_correct/total_samples)*100\n",
    "\n",
    "    print(\"Testing Epoch: [{}]  loss: [{:.2f}] Accuracy :[{:.2f}]\".format(epochs+1, test_loss/len(test_loader), accuracy))\n",
    "\n",
    "    return test_loss/len(test_loader), accuracy"
   ]
  },
  {
   "cell_type": "code",
   "execution_count": null,
   "id": "1affd63c-15d0-4234-9f7b-412c685b06fd",
   "metadata": {
    "tags": []
   },
   "outputs": [],
   "source": [
    "history = {'train_loss': [], 'valid_loss': [],'train_acc':[],'valid_acc':[]}\n",
    "\n",
    "for i in range(num_epochs):\n",
    "    train_loss, train_acc = train_model(model, train_loader, criterion, optimizer, device, i)\n",
    "    validation_loss, validation_acc = test_model(model, valid_loader, criterion, device, i)\n",
    "    \n",
    "    history['train_loss'].append(train_loss)\n",
    "    history['valid_loss'].append(validation_loss)\n",
    "    history['train_acc'].append(train_acc)\n",
    "    history['valid_acc'].append(validation_acc)\n"
   ]
  },
  {
   "cell_type": "code",
   "execution_count": null,
   "id": "4ea65b4f-c50e-4eae-beaa-5956743112b9",
   "metadata": {},
   "outputs": [],
   "source": [
    "_,_ = test_model(model, test_loader, criterion, device, i)"
   ]
  },
  {
   "cell_type": "code",
   "execution_count": null,
   "id": "94651985-a59c-4202-8004-cfc9fcfc06de",
   "metadata": {},
   "outputs": [],
   "source": [
    "45.80/62.01"
   ]
  },
  {
   "cell_type": "code",
   "execution_count": null,
   "id": "b5679ccd-5fc1-4107-bb4e-4f7edc0c79e1",
   "metadata": {},
   "outputs": [],
   "source": [
    "plt.figure(figsize=(8,5))\n",
    "# plt.title('Without Pretraining')\n",
    "plt.subplot(121)\n",
    "plt.plot(history['train_loss'],label='Training Loss')\n",
    "plt.plot(history['valid_loss'],label='Validation Loss')\n",
    "plt.legend()\n",
    "plt.xlabel('Epcohs')\n",
    "plt.ylabel('Loss')\n",
    "plt.subplot(122)\n",
    "plt.plot(history['train_acc'],label='Training Accuracy')\n",
    "plt.plot(history['valid_acc'],label='Validation Accuracy')\n",
    "plt.legend()\n",
    "plt.xlabel('Epcohs')\n",
    "plt.ylabel('Accuracy')\n",
    "plt.show()"
   ]
  },
  {
   "cell_type": "code",
   "execution_count": null,
   "id": "5ff007be-a4a9-490e-a1e0-a06ef42befce",
   "metadata": {},
   "outputs": [],
   "source": []
  },
  {
   "cell_type": "code",
   "execution_count": null,
   "id": "555587bb-f242-4d99-85fe-98f046dc4b52",
   "metadata": {},
   "outputs": [],
   "source": []
  },
  {
   "cell_type": "code",
   "execution_count": null,
   "id": "fb35e57b-46e4-44a6-87ae-1028bc01f0fe",
   "metadata": {},
   "outputs": [],
   "source": []
  },
  {
   "cell_type": "code",
   "execution_count": null,
   "id": "2989952a-88ee-4514-bdf9-90ec54093fbf",
   "metadata": {},
   "outputs": [],
   "source": []
  },
  {
   "cell_type": "code",
   "execution_count": null,
   "id": "1bcddef2-d473-4e7f-814e-5a1cef507b4e",
   "metadata": {},
   "outputs": [],
   "source": []
  },
  {
   "cell_type": "code",
   "execution_count": null,
   "id": "b9430753-accd-4bce-91ff-e3bc45fa939f",
   "metadata": {},
   "outputs": [],
   "source": []
  },
  {
   "cell_type": "code",
   "execution_count": null,
   "id": "0ca37a79-1a94-48b1-9013-a9d9d6298eef",
   "metadata": {},
   "outputs": [],
   "source": []
  },
  {
   "cell_type": "code",
   "execution_count": null,
   "id": "b591f26f-e5e5-46b5-8009-46a565866590",
   "metadata": {},
   "outputs": [],
   "source": []
  },
  {
   "cell_type": "code",
   "execution_count": null,
   "id": "93678abb-f7ab-478e-9506-d5367fc8065c",
   "metadata": {},
   "outputs": [],
   "source": []
  },
  {
   "cell_type": "code",
   "execution_count": null,
   "id": "80518496-f330-4763-be97-7c8c0953841b",
   "metadata": {},
   "outputs": [],
   "source": []
  }
 ],
 "metadata": {
  "kernelspec": {
   "display_name": "torch_env",
   "language": "python",
   "name": "torch_env"
  },
  "language_info": {
   "codemirror_mode": {
    "name": "ipython",
    "version": 3
   },
   "file_extension": ".py",
   "mimetype": "text/x-python",
   "name": "python",
   "nbconvert_exporter": "python",
   "pygments_lexer": "ipython3",
   "version": "3.10.9"
  }
 },
 "nbformat": 4,
 "nbformat_minor": 5
}
